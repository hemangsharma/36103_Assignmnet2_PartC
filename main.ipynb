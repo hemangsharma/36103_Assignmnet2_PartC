{
 "cells": [
  {
   "cell_type": "code",
   "execution_count": null,
   "metadata": {},
   "outputs": [],
   "source": [
    "import pandas as pd\n",
    "import numpy as np\n",
    "import matplotlib.pyplot as plt\n",
    "import seaborn as sns\n",
    "from scipy.stats import ttest_ind\n",
    "from scipy.stats import pearsonr\n",
    "from sklearn.model_selection import train_test_split\n",
    "import statsmodels.api as sm\n",
    "from sklearn.linear_model import LinearRegression\n",
    "from sklearn.impute import SimpleImputer\n",
    "from sklearn.metrics import mean_squared_error, mean_absolute_error\n",
    "import joblib"
   ]
  },
  {
   "cell_type": "code",
   "execution_count": null,
   "id": "8e1a871a",
   "metadata": {},
   "outputs": [],
   "source": [
    "# Assuming your dataset is named 'sydney_data.csv'\n",
    "df = pd.read_csv('sydney_data.csv')"
   ]
  },
  {
   "cell_type": "code",
   "execution_count": null,
   "id": "0a10fc51",
   "metadata": {},
   "outputs": [],
   "source": [
    "# Check for missing values\n",
    "df.isnull().sum()\n",
    "\n",
    "# Clean the \"Time to CBD (Public Transport) [Town Hall St]\" column\n",
    "df['Time to CBD (Public Transport) [Town Hall St]'] = df['Time to CBD (Public Transport) [Town Hall St]'].str.replace(' minuntes', '')\n",
    "\n",
    "# Convert data types\n",
    "df['Time to CBD (Public Transport) [Town Hall St]'] = pd.to_numeric(df['Time to CBD (Public Transport) [Town Hall St]'], errors='coerce')\n",
    "\n",
    "# Check for missing values again after cleaning and conversion\n",
    "df.isnull().sum()"
   ]
  },
  {
   "cell_type": "code",
   "execution_count": null,
   "id": "8d87258d",
   "metadata": {},
   "outputs": [],
   "source": [
    "print(df.dtypes)"
   ]
  },
  {
   "cell_type": "code",
   "execution_count": null,
   "id": "ee50b4eb",
   "metadata": {},
   "outputs": [],
   "source": [
    "# Check unique values in the \"Time to CBD (Public Transport) [Town Hall St]\" column\n",
    "print(df['Time to CBD (Public Transport) [Town Hall St]'].unique())\n",
    "\n",
    "# Check unique values in the \"Median House Price (2020)\" column\n",
    "print(df['Median House Price (2020)'].unique())"
   ]
  },
  {
   "cell_type": "code",
   "execution_count": null,
   "id": "93182cdf",
   "metadata": {},
   "outputs": [],
   "source": [
    "# Remove dollar signs and commas from the \"Median House Price (2020)\" column\n",
    "df['Median House Price (2020)'] = df['Median House Price (2020)'].str.replace('[\\$,]', '', regex=True)\n",
    "\n",
    "# Convert the column to a numeric type\n",
    "df['Median House Price (2020)'] = pd.to_numeric(df['Median House Price (2020)'], errors='coerce')"
   ]
  },
  {
   "cell_type": "code",
   "execution_count": null,
   "id": "95df54bc",
   "metadata": {},
   "outputs": [],
   "source": [
    "# Calculate correlations\n",
    "correlation_2020 = df['Time to CBD (Public Transport) [Town Hall St]'].corr(df['Median House Price (2020)'])\n",
    "\n",
    "print(f\"Correlation with Median House Price (2020): {correlation_2020}\")\n",
    "\n",
    "# Create a scatter plot to visualize the relationship\n",
    "plt.figure(figsize=(10, 6))\n",
    "sns.scatterplot(x='Time to CBD (Public Transport) [Town Hall St]', y='Median House Price (2020)', data=df)\n",
    "plt.title('Scatter Plot of Time to CBD vs. Median House Price (2020)')\n",
    "plt.xlabel('Time to CBD (Public Transport) [Town Hall St]')\n",
    "plt.ylabel('Median House Price (2020)')\n",
    "plt.show()\n"
   ]
  },
  {
   "cell_type": "markdown",
   "id": "3116bfff",
   "metadata": {},
   "source": [
    "The correlation between \"Time to CBD via public transport\" and \"Median House Price (2020)\" is approximately -0.259. This negative correlation suggests that as the time to reach the Central Business District (CBD) via public transport increases, the median house prices tend to decrease, albeit not very strongly."
   ]
  },
  {
   "cell_type": "markdown",
   "id": "44b2bae3",
   "metadata": {},
   "source": [
    "### Histogram of House Prices: Visualize the distribution of median house prices for a better understanding of the data."
   ]
  },
  {
   "cell_type": "code",
   "execution_count": null,
   "id": "d0adc325",
   "metadata": {},
   "outputs": [],
   "source": [
    "plt.figure(figsize=(10, 6))\n",
    "sns.histplot(df['Median House Price (2020)'], bins=20, kde=True)\n",
    "plt.title('Distribution of Median House Prices (2020)')\n",
    "plt.xlabel('Median House Price (2020)')\n",
    "plt.ylabel('Frequency')\n",
    "plt.show()\n"
   ]
  },
  {
   "cell_type": "markdown",
   "id": "e39fdad7",
   "metadata": {},
   "source": [
    "### Box Plot of House Prices by Region: Explore how median house prices vary by region."
   ]
  },
  {
   "cell_type": "code",
   "execution_count": null,
   "id": "f2b72ff1",
   "metadata": {},
   "outputs": [],
   "source": [
    "plt.figure(figsize=(12, 6))\n",
    "sns.boxplot(x='Region', y='Median House Price (2020)', data=df)\n",
    "plt.title('Median House Prices (2020) by Region')\n",
    "plt.xticks(rotation=90)\n",
    "plt.xlabel('Region')\n",
    "plt.ylabel('Median House Price (2020)')\n",
    "plt.show()\n"
   ]
  },
  {
   "cell_type": "markdown",
   "id": "468971ee",
   "metadata": {},
   "source": [
    "### Scatter Plot Matrix: Create a matrix of scatter plots to visualize relationships between multiple numeric variables."
   ]
  },
  {
   "cell_type": "code",
   "execution_count": null,
   "id": "ae08cf00",
   "metadata": {},
   "outputs": [],
   "source": [
    "numeric_columns = [\n",
    "    'Median House Price (2020)',\n",
    "    'Time to CBD (Public Transport) [Town Hall St]',\n",
    "    'Traffic',\n",
    "    'Public Transport',\n",
    "    'Nature',\n",
    "    'Noise'\n",
    "]\n",
    "\n",
    "sns.pairplot(df[numeric_columns], height=2)\n",
    "plt.suptitle('Pairwise Scatter Plot Matrix')\n",
    "plt.show()"
   ]
  },
  {
   "cell_type": "code",
   "execution_count": null,
   "id": "c42b9212",
   "metadata": {},
   "outputs": [],
   "source": [
    "# Feature Engineering\n",
    "# Feature that represents the proximity to the nearest train station.\n",
    "\n",
    "df['Proximity to Train Station'] = 1 / (df['Time to CBD (Public Transport) [Town Hall St]'] + 1)"
   ]
  },
  {
   "cell_type": "code",
   "execution_count": null,
   "id": "e9c36124",
   "metadata": {},
   "outputs": [],
   "source": [
    "# Statistical Tests\n",
    "\n",
    "# Check for missing values in 'Proximity to Train Station' and 'Median House Price (2020)'\n",
    "print(\"Missing values in 'Proximity to Train Station':\", df['Proximity to Train Station'].isnull().sum())\n",
    "print(\"Missing values in 'Median House Price (2020)':\", df['Median House Price (2020)'].isnull().sum())\n",
    "\n",
    "# Remove rows with NaN values in 'Median House Price (2020)'\n",
    "df_cleaned = df.dropna(subset=['Median House Price (2020)'])\n",
    "\n",
    "# Ensure 'Proximity to Train Station' does not contain zero values\n",
    "# Add a small constant value to prevent division by zero\n",
    "epsilon = 1e-6  # A small constant\n",
    "df_cleaned['Proximity to Train Station'] += epsilon\n",
    "\n",
    "# Test the correlation again on the cleaned data\n",
    "correlation, p_value = pearsonr(df_cleaned['Proximity to Train Station'], df_cleaned['Median House Price (2020)'])\n",
    "print(f\"Correlation: {correlation}\")\n",
    "print(f\"P-Value: {p_value}\")\n"
   ]
  },
  {
   "cell_type": "markdown",
   "id": "7832d23a",
   "metadata": {},
   "source": [
    "Summary of the results:\n",
    "\n",
    "Missing values in 'Proximity to Train Station': 0\n",
    "Missing values in 'Median House Price (2020)': 3\n",
    "Correlation: 0.0699 (approximately)\n",
    "P-Value: 0.1539\n",
    "The correlation between \"Proximity to Train Station\" and \"Median House Price (2020)\" is approximately 0.0699, and the p-value is 0.1539. A p-value greater than 0.05 suggests that the correlation may not be statistically significant at a typical significance level of 0.05. However, the correlation is still worth considering, as it could indicate a weak relationship between the two variables."
   ]
  },
  {
   "cell_type": "markdown",
   "id": "e57f6526",
   "metadata": {},
   "source": [
    "Hypothesis Testing:\n",
    "\n",
    "Perform hypothesis tests to answer specific questions. For example, you can test hypotheses like:\n",
    "\n",
    "1. Is there a statistically significant difference in median house prices between different regions?\n",
    "2. Does the proximity to train stations have a significant impact on house prices?"
   ]
  },
  {
   "cell_type": "code",
   "execution_count": null,
   "id": "c71e47ef",
   "metadata": {},
   "outputs": [],
   "source": [
    "# Hypothesis test for regional differences in house prices\n",
    "region_groups = df.groupby('Region')['Median House Price (2020)']\n",
    "region_names = df['Region'].unique()\n",
    "\n",
    "for i in range(len(region_names)):\n",
    "    for j in range(i + 1, len(region_names)):\n",
    "        region1 = region_groups.get_group(region_names[i])\n",
    "        region2 = region_groups.get_group(region_names[j])\n",
    "        t_stat, p_value = ttest_ind(region1, region2)\n",
    "        print(f'Test between {region_names[i]} and {region_names[j]}: p-value = {p_value}')"
   ]
  },
  {
   "cell_type": "markdown",
   "id": "e53a9311",
   "metadata": {},
   "source": [
    "Correlation Heatmap:\n",
    "\n",
    "Create a heatmap to visualize the correlations between all numerical variables in dataset."
   ]
  },
  {
   "cell_type": "code",
   "execution_count": null,
   "id": "01c6bbbe",
   "metadata": {},
   "outputs": [],
   "source": [
    "correlation_matrix = df.corr()\n",
    "plt.figure(figsize=(12, 8))\n",
    "sns.heatmap(correlation_matrix, annot=True, cmap='coolwarm', fmt=\".2f\")\n",
    "plt.title('Correlation Heatmap')\n",
    "plt.show()"
   ]
  },
  {
   "cell_type": "markdown",
   "id": "a727994d",
   "metadata": {},
   "source": [
    "Residual Analysis:\n",
    "\n",
    "Analyze the residuals of your regression model to check for patterns."
   ]
  },
  {
   "cell_type": "code",
   "execution_count": null,
   "id": "a713fa44",
   "metadata": {},
   "outputs": [],
   "source": [
    "# Reshape the arrays to be 1-dimensional\n",
    "y_pred = y_pred.flatten()\n",
    "residuals = residuals.flatten()\n",
    "\n",
    "# Create a scatter plot of residuals vs. predicted values\n",
    "plt.figure(figsize=(10, 6))\n",
    "sns.scatterplot(x=y_pred, y=residuals)\n",
    "plt.title('Residual Plot')\n",
    "plt.xlabel('Predicted Values')\n",
    "plt.ylabel('Residuals')\n",
    "plt.show()\n"
   ]
  },
  {
   "cell_type": "code",
   "execution_count": null,
   "id": "1763ba46",
   "metadata": {},
   "outputs": [],
   "source": [
    "# Define the features and target variable\n",
    "X = df[['Proximity to Train Station', 'Traffic', 'Public Transport', 'Nature', 'Noise']]\n",
    "y = df['Median House Price (2020)']\n",
    "\n",
    "# Check for and handle missing values in the target variable 'y'\n",
    "if y.isnull().any():\n",
    "    # Handle missing values in 'y' by imputing with the mean\n",
    "    imputer = SimpleImputer(strategy='mean')\n",
    "    y = imputer.fit_transform(y.values.reshape(-1, 1))\n",
    "\n",
    "# Split the data into training and testing sets\n",
    "X_train, X_test, y_train, y_test = train_test_split(X, y, test_size=0.2, random_state=42)\n",
    "\n",
    "# Initialize the imputer to handle missing values in features\n",
    "imputer = SimpleImputer(strategy='mean')\n",
    "\n",
    "# Fit and transform the imputer on the training data\n",
    "X_train_imputed = imputer.fit_transform(X_train)\n",
    "\n",
    "# Transform the test data with the same imputer\n",
    "X_test_imputed = imputer.transform(X_test)\n",
    "\n",
    "# Initialize the linear regression model\n",
    "model = LinearRegression()\n",
    "\n",
    "# Fit the model to the training data with imputed features\n",
    "model.fit(X_train_imputed, y_train)\n",
    "\n",
    "# Make predictions on the test data with imputed features\n",
    "y_pred = model.predict(X_test_imputed)\n",
    "\n",
    "# Evaluate the model using MSE and MAE\n",
    "mse = mean_squared_error(y_test, y_pred)\n",
    "mae = mean_absolute_error(y_test, y_pred)\n",
    "\n",
    "print(f\"Mean Squared Error (MSE): {mse}\")\n",
    "print(f\"Mean Absolute Error (MAE): {mae}\")\n"
   ]
  },
  {
   "cell_type": "markdown",
   "id": "7dd32ff0",
   "metadata": {},
   "source": [
    "In the above code:\n",
    "\n",
    "1. We check for missing values in the target variable 'y' using y.isnull().any(), and if there are missing values, we impute them with the mean using SimpleImputer.\n",
    "2. We proceed with the model building and evaluation steps as before after handling any potential missing values in the target variable."
   ]
  },
  {
   "cell_type": "code",
   "execution_count": null,
   "id": "8234efe6",
   "metadata": {},
   "outputs": [],
   "source": [
    "# Model Visualization\n",
    "\n",
    "plt.figure(figsize=(10, 6))\n",
    "plt.scatter(y_test, y_pred)\n",
    "plt.xlabel(\"Actual House Prices\")\n",
    "plt.ylabel(\"Predicted House Prices\")\n",
    "plt.title(\"Actual vs. Predicted House Prices\")\n",
    "plt.show()"
   ]
  },
  {
   "cell_type": "code",
   "execution_count": null,
   "id": "4c9b4947",
   "metadata": {},
   "outputs": [],
   "source": [
    "# Residual Distribution Plot\n",
    "plt.figure(figsize=(15, 10))\n",
    "sns.histplot(residuals, bins=20, kde=True)\n",
    "plt.title('Distribution of Residuals')\n",
    "plt.xlabel('Residuals')\n",
    "plt.ylabel('Frequency')\n",
    "plt.show()"
   ]
  },
  {
   "cell_type": "markdown",
   "id": "a424479e",
   "metadata": {},
   "source": [
    "This plot shows the distribution of residuals. A normal distribution of residuals around zero is a good sign for a linear regression model."
   ]
  },
  {
   "cell_type": "code",
   "execution_count": null,
   "id": "30cd31ae",
   "metadata": {},
   "outputs": [],
   "source": [
    "#QQ Plot for Residuals\n",
    "plt.figure(figsize=(8, 6))\n",
    "sm.qqplot(residuals, line='r')\n",
    "plt.title('QQ Plot of Residuals')\n",
    "plt.show()"
   ]
  },
  {
   "cell_type": "markdown",
   "id": "4d481a79",
   "metadata": {},
   "source": [
    "A QQ plot helps you assess if the residuals follow a normal distribution. Points should closely follow the red line."
   ]
  },
  {
   "cell_type": "code",
   "execution_count": null,
   "id": "84d52f9c",
   "metadata": {},
   "outputs": [],
   "source": [
    "# Model Coefficients Visualization\n",
    "# Get the model coefficients and flatten them\n",
    "coefficients = model.coef_.flatten()\n",
    "\n",
    "# Create a bar chart to visualize coefficients\n",
    "plt.figure(figsize=(10, 6))\n",
    "plt.bar(X.columns, coefficients)\n",
    "plt.title('Model Coefficients')\n",
    "plt.xlabel('Features')\n",
    "plt.ylabel('Coefficient Value')\n",
    "plt.xticks(rotation=45)\n",
    "plt.show()\n"
   ]
  },
  {
   "cell_type": "markdown",
   "id": "4cd9edd2",
   "metadata": {},
   "source": [
    "This chart displays the coefficients of the features in the model. Positive coefficients indicate a positive relationship with house prices, while negative coefficients indicate a negative relationship."
   ]
  },
  {
   "cell_type": "code",
   "execution_count": null,
   "id": "8cc0b3b6",
   "metadata": {},
   "outputs": [],
   "source": [
    "# Save the model to a file\n",
    "model_filename = 'linear_regression_model.pkl'\n",
    "joblib.dump(model, model_filename)\n",
    "\n",
    "print(f\"Model saved as {model_filename}\")\n",
    "# Load the saved model\n",
    "loaded_model = joblib.load(model_filename)"
   ]
  }
 ],
 "metadata": {
  "kernelspec": {
   "display_name": "base",
   "language": "python",
   "name": "python3"
  },
  "language_info": {
   "codemirror_mode": {
    "name": "ipython",
    "version": 3
   },
   "file_extension": ".py",
   "mimetype": "text/x-python",
   "name": "python",
   "nbconvert_exporter": "python",
   "pygments_lexer": "ipython3",
   "version": "3.10.10"
  }
 },
 "nbformat": 4,
 "nbformat_minor": 5
}
